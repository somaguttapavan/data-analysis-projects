import pandas as pd
import numpy as np
import matplotlib.pyplot as plt
import seaborn as sns
from sklearn.linear_model import LinearRegression

# Load Dataset
df = pd.read_csv("Banglore_traffic_Dataset.csv")

print("Available columns:")
print(df.columns)

# Rename columns for consistency
df.columns = df.columns.str.strip().str.lower()

# Convert timestamp
if 'date_time' in df.columns:
    df['date_time'] = pd.to_datetime(df['date_time'])
else:
    df['date'] = pd.to_datetime(df['date'])
    df['time'] = pd.to_datetime(df['time'], format='%H:%M').dt.time
    df['date_time'] = pd.to_datetime(df['date'].astype(str) + ' ' + df['time'].astype(str))

# Extract hour
df['hour'] = df['date_time'].dt.hour

# Group data by hour and count records (proxy for traffic volume)
hourly_traffic = df.groupby('hour').size().reset_index(name='vehicle_count')

# Define independent (X) and dependent (y) variables
X = hourly_traffic[['hour']]
y = hourly_traffic['vehicle_count']

# Create and train model
model = LinearRegression()
model.fit(X, y)

# Predict using model
hour_range = pd.DataFrame({'hour': np.arange(0, 24)})
predictions = model.predict(hour_range)

# Plot Actual vs Predicted
plt.figure(figsize=(10,6))
plt.scatter(X, y, color='blue', label='Actual')
plt.plot(hour_range, predictions, color='red', linestyle='--', label='Predicted')
plt.title("Linear Regression: Traffic Volume vs Hour of Day")
plt.xlabel("Hour of Day")
plt.ylabel("Vehicle Count")
plt.legend()
plt.grid(True)
plt.show()

# Print prediction for a few hours
for hr in [8, 12, 18, 22]:
    pred = model.predict([[hr]])
    print(f"⏰ Predicted traffic at {hr}:00 = {int(pred[0])} vehicles")
